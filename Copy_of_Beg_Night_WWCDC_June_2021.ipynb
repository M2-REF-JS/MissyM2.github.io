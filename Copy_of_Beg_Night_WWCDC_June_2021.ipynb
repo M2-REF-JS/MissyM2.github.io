{
  "nbformat": 4,
  "nbformat_minor": 0,
  "metadata": {
    "kernelspec": {
      "display_name": "Python 3",
      "language": "python",
      "name": "python3"
    },
    "language_info": {
      "codemirror_mode": {
        "name": "ipython",
        "version": 3
      },
      "file_extension": ".py",
      "mimetype": "text/x-python",
      "name": "python",
      "nbconvert_exporter": "python",
      "pygments_lexer": "ipython3",
      "version": "3.7.3"
    },
    "colab": {
      "name": "Copy of Beg_Night_WWCDC_June_2021.ipynb",
      "provenance": [],
      "collapsed_sections": [],
      "include_colab_link": true
    }
  },
  "cells": [
    {
      "cell_type": "markdown",
      "metadata": {
        "id": "view-in-github",
        "colab_type": "text"
      },
      "source": [
        "<a href=\"https://colab.research.google.com/github/MissyM2/MissyM2.github.io/blob/main/Copy_of_Beg_Night_WWCDC_June_2021.ipynb\" target=\"_parent\"><img src=\"https://colab.research.google.com/assets/colab-badge.svg\" alt=\"Open In Colab\"/></a>"
      ]
    },
    {
      "cell_type": "markdown",
      "metadata": {
        "id": "aonIfmgmXLdh"
      },
      "source": [
        "\n",
        "# Beg_Night_WWCDC_June_2021"
      ]
    },
    {
      "cell_type": "markdown",
      "metadata": {
        "id": "Mtzs4XsKGn1n"
      },
      "source": [
        "# Print & Help"
      ]
    },
    {
      "cell_type": "markdown",
      "metadata": {
        "id": "6V6u54PBStc8"
      },
      "source": [
        "Using print (built-in function):"
      ]
    },
    {
      "cell_type": "code",
      "metadata": {
        "id": "pvz3QB9MXLdm"
      },
      "source": [
        "print(\"Hello World\")"
      ],
      "execution_count": null,
      "outputs": []
    },
    {
      "cell_type": "markdown",
      "metadata": {
        "id": "BkJLPnzOL9a2"
      },
      "source": [
        "Using help (built-in function):"
      ]
    },
    {
      "cell_type": "code",
      "metadata": {
        "id": "UGY2jeu0LyTE"
      },
      "source": [
        "help(print)"
      ],
      "execution_count": null,
      "outputs": []
    },
    {
      "cell_type": "markdown",
      "metadata": {
        "id": "lCVLR3GfIYKe"
      },
      "source": [
        "# Data Types"
      ]
    },
    {
      "cell_type": "code",
      "metadata": {
        "id": "EesKzWFbIb7K"
      },
      "source": [
        "print(type(\"Hello World\"))"
      ],
      "execution_count": null,
      "outputs": []
    },
    {
      "cell_type": "code",
      "metadata": {
        "id": "_qsa3USrSfNZ"
      },
      "source": [
        "print(type(1))"
      ],
      "execution_count": null,
      "outputs": []
    },
    {
      "cell_type": "code",
      "metadata": {
        "id": "hZmc2_ZoShVS"
      },
      "source": [
        "print(type(1.5))"
      ],
      "execution_count": null,
      "outputs": []
    },
    {
      "cell_type": "code",
      "metadata": {
        "id": "R1tmdqGISnI0"
      },
      "source": [
        "print(type([1, 2, 3]))"
      ],
      "execution_count": null,
      "outputs": []
    },
    {
      "cell_type": "code",
      "metadata": {
        "id": "ZVshLiIESjbe"
      },
      "source": [
        "print(type(True))"
      ],
      "execution_count": null,
      "outputs": []
    },
    {
      "cell_type": "code",
      "metadata": {
        "id": "tl9T7E7KSrbY"
      },
      "source": [
        "print(type(False))"
      ],
      "execution_count": null,
      "outputs": []
    },
    {
      "cell_type": "markdown",
      "metadata": {
        "id": "DbV1K19lHI2g"
      },
      "source": [
        "# Variables"
      ]
    },
    {
      "cell_type": "markdown",
      "metadata": {
        "id": "NYKcoetvXLd1"
      },
      "source": [
        "Using input (built-in function): \n",
        "1. Capture data from the keyboard as a variable\n",
        "2. Print out the variable\n",
        "3. Print a statement that incorporates the variable"
      ]
    },
    {
      "cell_type": "code",
      "metadata": {
        "scrolled": true,
        "id": "3-w_QVF0XLd4"
      },
      "source": [
        "name = input(\"Enter your name:  \")"
      ],
      "execution_count": null,
      "outputs": []
    },
    {
      "cell_type": "code",
      "metadata": {
        "id": "OzESBxojNTg3"
      },
      "source": [
        "print(name)"
      ],
      "execution_count": null,
      "outputs": []
    },
    {
      "cell_type": "code",
      "metadata": {
        "id": "8_ZncpriP1vQ"
      },
      "source": [
        "print(\"Hello \" + name)"
      ],
      "execution_count": null,
      "outputs": []
    },
    {
      "cell_type": "code",
      "metadata": {
        "id": "7kA5O58KGMKG"
      },
      "source": [
        "print(f\"Hello {name}\")"
      ],
      "execution_count": null,
      "outputs": []
    },
    {
      "cell_type": "markdown",
      "metadata": {
        "id": "IMFnSoLWXLeL"
      },
      "source": [
        "# Functions"
      ]
    },
    {
      "cell_type": "markdown",
      "metadata": {
        "id": "NaUTKBMlXLeN"
      },
      "source": [
        "Develop a function to print a greeting:"
      ]
    },
    {
      "cell_type": "code",
      "metadata": {
        "id": "yQWpW1rcXLeQ"
      },
      "source": [
        "def greetings(name):\n",
        "    \"\"\"Prints a statement incorporating the given name.\"\"\"\n",
        "    statement = (f\"Hello world from {name}!!!\")\n",
        "    print(statement)"
      ],
      "execution_count": null,
      "outputs": []
    },
    {
      "cell_type": "code",
      "metadata": {
        "id": "RqK2KgyqRo2e"
      },
      "source": [
        "greetings(\"Marie Curie\")"
      ],
      "execution_count": null,
      "outputs": []
    },
    {
      "cell_type": "markdown",
      "metadata": {
        "id": "allhuDMLXLeh"
      },
      "source": [
        "Call the function, passing in any input string:"
      ]
    },
    {
      "cell_type": "code",
      "metadata": {
        "id": "UR3tCKSIKpVO"
      },
      "source": [
        ""
      ],
      "execution_count": null,
      "outputs": []
    },
    {
      "cell_type": "markdown",
      "metadata": {
        "id": "vCLyHxClXLeX"
      },
      "source": [
        "Call the function, passing in the variable 'name' that you defined under the Variables section:"
      ]
    },
    {
      "cell_type": "code",
      "metadata": {
        "id": "J569H_JDKqIj"
      },
      "source": [
        ""
      ],
      "execution_count": null,
      "outputs": []
    },
    {
      "cell_type": "markdown",
      "metadata": {
        "id": "iQlIxzn9XLer"
      },
      "source": [
        "Create a function that converts temperature using IF ELSE to decide which conversion to use:\n",
        "\n",
        "HINT: (0°C × 9/5) + 32 = 32°F & (32°F − 32) × 5/9 = 0°C"
      ]
    },
    {
      "cell_type": "code",
      "metadata": {
        "id": "kRlp4eZNXLes"
      },
      "source": [
        "# TODO: Complete the function below\n",
        "def convert_temperature(temperature, tscale=\"c\"):\n",
        "  \"\"\"Converts input temperature to Celcius when tscale=\"c\" or Fahrenheit when tscale=\"f\".\"\"\"\"    \n",
        "\n",
        "  \n",
        "  "
      ],
      "execution_count": null,
      "outputs": []
    },
    {
      "cell_type": "markdown",
      "metadata": {
        "id": "sKKDn01hXLe0"
      },
      "source": [
        "Call the convert_temperature function with the values of: (212, \"f\"), (32, \"f\"), (32, \"f\"):"
      ]
    },
    {
      "cell_type": "code",
      "metadata": {
        "id": "WIg37ZXNXLe2"
      },
      "source": [
        ""
      ],
      "execution_count": null,
      "outputs": []
    },
    {
      "cell_type": "markdown",
      "metadata": {
        "id": "f-bDCq0LOBX9"
      },
      "source": [
        "# Python Standard Library - use random.choice() to randomly select 1 to 6 for rolling dice\n"
      ]
    },
    {
      "cell_type": "code",
      "metadata": {
        "id": "viLJzaiNOV8b"
      },
      "source": [
        "import random"
      ],
      "execution_count": null,
      "outputs": []
    },
    {
      "cell_type": "code",
      "metadata": {
        "id": "wt_UWi6h8Gfh"
      },
      "source": [
        "help(random.choice)"
      ],
      "execution_count": null,
      "outputs": []
    },
    {
      "cell_type": "code",
      "metadata": {
        "id": "f6qhvWNLMFMJ"
      },
      "source": [
        "dice = [1, 2, 3, 4, 5, 6]"
      ],
      "execution_count": null,
      "outputs": []
    },
    {
      "cell_type": "code",
      "metadata": {
        "id": "XiGSlx2TNdXB"
      },
      "source": [
        "print(random.choice(dice))"
      ],
      "execution_count": null,
      "outputs": []
    },
    {
      "cell_type": "markdown",
      "metadata": {
        "id": "ywG2N7VWXLfH"
      },
      "source": [
        "# Python Standard Library - use datetime.datetime.now() in your function greetings to capture the date and time"
      ]
    },
    {
      "cell_type": "code",
      "metadata": {
        "id": "oEVHr_liPCK1"
      },
      "source": [
        "import datetime"
      ],
      "execution_count": null,
      "outputs": []
    },
    {
      "cell_type": "code",
      "metadata": {
        "id": "nUM3D6BIVeUd"
      },
      "source": [
        "# TODO: Bring down greetings function here\n",
        "# TODO: Add timestamp -> datetime.datetime.now()\n",
        "\n",
        "\n"
      ],
      "execution_count": null,
      "outputs": []
    }
  ]
}